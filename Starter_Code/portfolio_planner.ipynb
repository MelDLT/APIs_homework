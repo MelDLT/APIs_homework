{
 "cells": [
  {
   "cell_type": "code",
   "execution_count": 1,
   "metadata": {},
   "outputs": [],
   "source": [
    "import numpy as np\n",
    "import pandas as pd\n",
    "from datetime import datetime, timedelta\n",
    "import matplotlib.pyplot as plt\n",
    "%matplotlib inline\n",
    "import os"
   ]
  },
  {
   "cell_type": "code",
   "execution_count": 2,
   "metadata": {},
   "outputs": [],
   "source": [
    "np.random.seed(42)"
   ]
  },
  {
   "cell_type": "markdown",
   "metadata": {},
   "source": [
    "# Portfolio Planner\n",
    "\n",
    "In this activity, you will use the iexfinance api to grab historical data for a 60/40 portfolio using `SPY` to represent the stock portion and `AGG` to represent the bonds."
   ]
  },
  {
   "cell_type": "code",
   "execution_count": 3,
   "metadata": {},
   "outputs": [],
   "source": [
    "import alpaca_trade_api as tradeapi\n",
    "from dotenv import load_dotenv\n",
    "load_dotenv()\n",
    "alpaca_api_key = os.getenv(\"APCA_API_KEY\")\n",
    "alpaca_secret_key = os.getenv(\"APCA_SECRET_KEY\")\n",
    "api = tradeapi.REST(alpaca_api_key, alpaca_secret_key, api_version='v2')\n"
   ]
  },
  {
   "cell_type": "markdown",
   "metadata": {},
   "source": [
    "# Data Collection\n",
    "\n",
    "In this step, you will need to use the IEX api to fetch closing prices for the `SPY` and `AGG` tickers. Save the results as a pandas DataFrame"
   ]
  },
  {
   "cell_type": "code",
   "execution_count": 4,
   "metadata": {},
   "outputs": [
    {
     "data": {
      "text/html": [
       "<div>\n",
       "<style scoped>\n",
       "    .dataframe tbody tr th:only-of-type {\n",
       "        vertical-align: middle;\n",
       "    }\n",
       "\n",
       "    .dataframe tbody tr th {\n",
       "        vertical-align: top;\n",
       "    }\n",
       "\n",
       "    .dataframe thead tr th {\n",
       "        text-align: left;\n",
       "    }\n",
       "</style>\n",
       "<table border=\"1\" class=\"dataframe\">\n",
       "  <thead>\n",
       "    <tr>\n",
       "      <th></th>\n",
       "      <th>AGG</th>\n",
       "      <th>SPY</th>\n",
       "    </tr>\n",
       "    <tr>\n",
       "      <th></th>\n",
       "      <th>close</th>\n",
       "      <th>close</th>\n",
       "    </tr>\n",
       "  </thead>\n",
       "  <tbody>\n",
       "    <tr>\n",
       "      <th>2019-11-22 00:00:00-05:00</th>\n",
       "      <td>112.850</td>\n",
       "      <td>311.00</td>\n",
       "    </tr>\n",
       "    <tr>\n",
       "      <th>2019-11-25 00:00:00-05:00</th>\n",
       "      <td>112.980</td>\n",
       "      <td>313.35</td>\n",
       "    </tr>\n",
       "    <tr>\n",
       "      <th>2019-11-26 00:00:00-05:00</th>\n",
       "      <td>113.120</td>\n",
       "      <td>314.02</td>\n",
       "    </tr>\n",
       "    <tr>\n",
       "      <th>2019-11-27 00:00:00-05:00</th>\n",
       "      <td>112.995</td>\n",
       "      <td>315.46</td>\n",
       "    </tr>\n",
       "    <tr>\n",
       "      <th>2019-11-29 00:00:00-05:00</th>\n",
       "      <td>112.925</td>\n",
       "      <td>314.27</td>\n",
       "    </tr>\n",
       "  </tbody>\n",
       "</table>\n",
       "</div>"
      ],
      "text/plain": [
       "                               AGG     SPY\n",
       "                             close   close\n",
       "2019-11-22 00:00:00-05:00  112.850  311.00\n",
       "2019-11-25 00:00:00-05:00  112.980  313.35\n",
       "2019-11-26 00:00:00-05:00  113.120  314.02\n",
       "2019-11-27 00:00:00-05:00  112.995  315.46\n",
       "2019-11-29 00:00:00-05:00  112.925  314.27"
      ]
     },
     "execution_count": 4,
     "metadata": {},
     "output_type": "execute_result"
    }
   ],
   "source": [
    "tickers = [\"SPY\", \"AGG\"]\n",
    "# YOUR CODE HERE\n",
    "timeframe = '1D'\n",
    "portfolio_df = pd.DataFrame()\n",
    "end_date = datetime.now()\n",
    "start_date = end_date + timedelta(-365)\n",
    "portfolio_df = api.get_barset(\n",
    "    tickers,\n",
    "    timeframe,\n",
    "    limit=None,\n",
    "    start=start_date,\n",
    "    end=end_date,\n",
    "    after=None,\n",
    "    until=None,\n",
    ").df\n",
    "portfolio_df.drop(columns=['open', 'high', 'low', 'volume'], level=1, inplace=True)\n",
    "portfolio_df.head()"
   ]
  },
  {
   "cell_type": "markdown",
   "metadata": {},
   "source": [
    "# Monte Carlo Simulation\n",
    "\n",
    "In this step, you will run Monte Carlo Simulations for your portfolio to model portfolio performance at different retirement ages. \n",
    "\n",
    "Complete the following steps:\n",
    "1. Calculate the daily returns for the SPY and AGG closing prices.\n",
    "2. Calculate volatility for both the SPY and AGG closing prices.\n",
    "3. Find the last day's closing price for both stocks and save those as variables.\n",
    "4. Run a Monte Carlo Simulation of at least 500 iterations and generate at least 30 years of closing prices\n",
    "\n",
    "### HINTS:\n",
    "There are 252 trading days per year, so the number of records to generate for each Monte Carlo run will be 252 days * 30 years"
   ]
  },
  {
   "cell_type": "code",
   "execution_count": 5,
   "metadata": {},
   "outputs": [],
   "source": [
    "# Calculate the daily roi for the stocks\n",
    "# YOUR CODE HERE\n",
    "daily_returns = portfolio_df.pct_change().dropna()\n",
    "daily_returns_AGG = daily_returns.mean()['AGG']['close']\n",
    "daily_returns_SPY = daily_returns.mean()['SPY']['close']"
   ]
  },
  {
   "cell_type": "code",
   "execution_count": 6,
   "metadata": {},
   "outputs": [],
   "source": [
    "# Calculate volatility\n",
    "# YOUR CODE HERE\n",
    "AGG_std = daily_returns.std()['AGG']['close']\n",
    "SPY_std = daily_returns.std()['SPY']['close']"
   ]
  },
  {
   "cell_type": "code",
   "execution_count": 7,
   "metadata": {},
   "outputs": [],
   "source": [
    "# Save the last day's closing price\n",
    "# YOUR CODE HERE\n",
    "AGG_last_day_closing = portfolio_df['AGG']['close'][-1]\n",
    "SPY_last_day_closing = portfolio_df['SPY']['close'][-1]"
   ]
  },
  {
   "cell_type": "code",
   "execution_count": 25,
   "metadata": {},
   "outputs": [],
   "source": [
    "# Setup the Monte Carlo Parameters\n",
    "number_simulations = 500\n",
    "number_records = 252*30\n",
    "monte_carlo = pd.DataFrame()\n",
    "portfolio_returns = pd.DataFrame()\n",
    "weight = [0.6,0.4]\n"
   ]
  },
  {
   "cell_type": "code",
   "execution_count": 26,
   "metadata": {},
   "outputs": [
    {
     "data": {
      "text/html": [
       "<div>\n",
       "<style scoped>\n",
       "    .dataframe tbody tr th:only-of-type {\n",
       "        vertical-align: middle;\n",
       "    }\n",
       "\n",
       "    .dataframe tbody tr th {\n",
       "        vertical-align: top;\n",
       "    }\n",
       "\n",
       "    .dataframe thead th {\n",
       "        text-align: right;\n",
       "    }\n",
       "</style>\n",
       "<table border=\"1\" class=\"dataframe\">\n",
       "  <thead>\n",
       "    <tr style=\"text-align: right;\">\n",
       "      <th></th>\n",
       "      <th>0</th>\n",
       "      <th>1</th>\n",
       "      <th>2</th>\n",
       "      <th>3</th>\n",
       "      <th>4</th>\n",
       "      <th>5</th>\n",
       "      <th>6</th>\n",
       "      <th>7</th>\n",
       "      <th>8</th>\n",
       "      <th>9</th>\n",
       "      <th>...</th>\n",
       "      <th>490</th>\n",
       "      <th>491</th>\n",
       "      <th>492</th>\n",
       "      <th>493</th>\n",
       "      <th>494</th>\n",
       "      <th>495</th>\n",
       "      <th>496</th>\n",
       "      <th>497</th>\n",
       "      <th>498</th>\n",
       "      <th>499</th>\n",
       "    </tr>\n",
       "  </thead>\n",
       "  <tbody>\n",
       "    <tr>\n",
       "      <th>0</th>\n",
       "      <td>1.000000</td>\n",
       "      <td>1.000000</td>\n",
       "      <td>1.000000</td>\n",
       "      <td>1.000000</td>\n",
       "      <td>1.000000</td>\n",
       "      <td>1.000000</td>\n",
       "      <td>1.000000</td>\n",
       "      <td>1.000000</td>\n",
       "      <td>1.000000</td>\n",
       "      <td>1.000000</td>\n",
       "      <td>...</td>\n",
       "      <td>1.000000</td>\n",
       "      <td>1.000000</td>\n",
       "      <td>1.000000</td>\n",
       "      <td>1.000000</td>\n",
       "      <td>1.000000</td>\n",
       "      <td>1.000000</td>\n",
       "      <td>1.000000</td>\n",
       "      <td>1.000000</td>\n",
       "      <td>1.000000</td>\n",
       "      <td>1.000000</td>\n",
       "    </tr>\n",
       "    <tr>\n",
       "      <th>1</th>\n",
       "      <td>0.997705</td>\n",
       "      <td>0.998014</td>\n",
       "      <td>0.998448</td>\n",
       "      <td>0.980456</td>\n",
       "      <td>1.012042</td>\n",
       "      <td>0.972345</td>\n",
       "      <td>0.995279</td>\n",
       "      <td>1.000537</td>\n",
       "      <td>1.013401</td>\n",
       "      <td>0.987763</td>\n",
       "      <td>...</td>\n",
       "      <td>1.002025</td>\n",
       "      <td>1.004522</td>\n",
       "      <td>1.017407</td>\n",
       "      <td>1.006052</td>\n",
       "      <td>1.023237</td>\n",
       "      <td>0.984476</td>\n",
       "      <td>0.998456</td>\n",
       "      <td>0.985454</td>\n",
       "      <td>1.001273</td>\n",
       "      <td>1.001935</td>\n",
       "    </tr>\n",
       "    <tr>\n",
       "      <th>2</th>\n",
       "      <td>0.980058</td>\n",
       "      <td>1.022718</td>\n",
       "      <td>1.006118</td>\n",
       "      <td>0.972162</td>\n",
       "      <td>1.020886</td>\n",
       "      <td>0.990582</td>\n",
       "      <td>0.989303</td>\n",
       "      <td>1.009660</td>\n",
       "      <td>1.014617</td>\n",
       "      <td>0.994283</td>\n",
       "      <td>...</td>\n",
       "      <td>1.010105</td>\n",
       "      <td>1.010355</td>\n",
       "      <td>1.026845</td>\n",
       "      <td>1.030853</td>\n",
       "      <td>1.029329</td>\n",
       "      <td>0.957270</td>\n",
       "      <td>1.000182</td>\n",
       "      <td>0.978487</td>\n",
       "      <td>1.006514</td>\n",
       "      <td>0.997685</td>\n",
       "    </tr>\n",
       "    <tr>\n",
       "      <th>3</th>\n",
       "      <td>0.972332</td>\n",
       "      <td>1.028851</td>\n",
       "      <td>0.994812</td>\n",
       "      <td>0.974053</td>\n",
       "      <td>1.011254</td>\n",
       "      <td>0.996349</td>\n",
       "      <td>0.987610</td>\n",
       "      <td>1.002490</td>\n",
       "      <td>1.042816</td>\n",
       "      <td>0.998038</td>\n",
       "      <td>...</td>\n",
       "      <td>1.017501</td>\n",
       "      <td>1.003419</td>\n",
       "      <td>1.028373</td>\n",
       "      <td>1.022927</td>\n",
       "      <td>1.010213</td>\n",
       "      <td>0.942132</td>\n",
       "      <td>1.014155</td>\n",
       "      <td>0.978674</td>\n",
       "      <td>1.006454</td>\n",
       "      <td>0.977533</td>\n",
       "    </tr>\n",
       "    <tr>\n",
       "      <th>4</th>\n",
       "      <td>0.977185</td>\n",
       "      <td>1.019922</td>\n",
       "      <td>0.986494</td>\n",
       "      <td>0.957576</td>\n",
       "      <td>1.005685</td>\n",
       "      <td>1.006182</td>\n",
       "      <td>0.972677</td>\n",
       "      <td>1.005994</td>\n",
       "      <td>1.043141</td>\n",
       "      <td>1.006076</td>\n",
       "      <td>...</td>\n",
       "      <td>1.002193</td>\n",
       "      <td>0.997800</td>\n",
       "      <td>1.031814</td>\n",
       "      <td>1.024545</td>\n",
       "      <td>1.001561</td>\n",
       "      <td>0.955140</td>\n",
       "      <td>1.000218</td>\n",
       "      <td>0.973580</td>\n",
       "      <td>1.015383</td>\n",
       "      <td>0.970200</td>\n",
       "    </tr>\n",
       "  </tbody>\n",
       "</table>\n",
       "<p>5 rows × 500 columns</p>\n",
       "</div>"
      ],
      "text/plain": [
       "        0         1         2         3         4         5         6    \\\n",
       "0  1.000000  1.000000  1.000000  1.000000  1.000000  1.000000  1.000000   \n",
       "1  0.997705  0.998014  0.998448  0.980456  1.012042  0.972345  0.995279   \n",
       "2  0.980058  1.022718  1.006118  0.972162  1.020886  0.990582  0.989303   \n",
       "3  0.972332  1.028851  0.994812  0.974053  1.011254  0.996349  0.987610   \n",
       "4  0.977185  1.019922  0.986494  0.957576  1.005685  1.006182  0.972677   \n",
       "\n",
       "        7         8         9    ...       490       491       492       493  \\\n",
       "0  1.000000  1.000000  1.000000  ...  1.000000  1.000000  1.000000  1.000000   \n",
       "1  1.000537  1.013401  0.987763  ...  1.002025  1.004522  1.017407  1.006052   \n",
       "2  1.009660  1.014617  0.994283  ...  1.010105  1.010355  1.026845  1.030853   \n",
       "3  1.002490  1.042816  0.998038  ...  1.017501  1.003419  1.028373  1.022927   \n",
       "4  1.005994  1.043141  1.006076  ...  1.002193  0.997800  1.031814  1.024545   \n",
       "\n",
       "        494       495       496       497       498       499  \n",
       "0  1.000000  1.000000  1.000000  1.000000  1.000000  1.000000  \n",
       "1  1.023237  0.984476  0.998456  0.985454  1.001273  1.001935  \n",
       "2  1.029329  0.957270  1.000182  0.978487  1.006514  0.997685  \n",
       "3  1.010213  0.942132  1.014155  0.978674  1.006454  0.977533  \n",
       "4  1.001561  0.955140  1.000218  0.973580  1.015383  0.970200  \n",
       "\n",
       "[5 rows x 500 columns]"
      ]
     },
     "execution_count": 26,
     "metadata": {},
     "output_type": "execute_result"
    }
   ],
   "source": [
    "# Run the Monte Carlo Simulation\n",
    "for x in range(number_simulations):\n",
    "    \n",
    "    simulated_AGG_prices = [AGG_last_day_closing]\n",
    "    simulated_SPY_prices = [SPY_last_day_closing]\n",
    "    for i in range(number_records):\n",
    "        simulated_AGG_price = simulated_AGG_prices[-1] * (1 + np.random.normal(daily_returns_AGG, AGG_std))\n",
    "        simulated_SPY_price = simulated_SPY_prices[-1] * (1 + np.random.normal(daily_returns_AGG, SPY_std))\n",
    "        \n",
    "        simulated_AGG_prices.append(simulated_AGG_price)\n",
    "        simulated_SPY_prices.append(simulated_SPY_price)\n",
    "    monte_carlo[\"AGG prices\"] = pd.Series(simulated_AGG_prices)\n",
    "    monte_carlo[\"SPY prices\"] = pd.Series(simulated_SPY_prices)\n",
    "    daily_returns = monte_carlo.pct_change()\n",
    "    portfolio_daily_returns = daily_returns.dot(weight)\n",
    "    portfolio_daily_returns = portfolio_daily_returns.fillna(0)\n",
    "    portfolio_returns[x] = (1 + portfolio_daily_returns).cumprod()\n",
    "        \n",
    "portfolio_returns.head()"
   ]
  },
  {
   "cell_type": "code",
   "execution_count": 29,
   "metadata": {},
   "outputs": [
    {
     "data": {
      "text/plain": [
       "<matplotlib.axes._subplots.AxesSubplot at 0x22f3550cbc8>"
      ]
     },
     "execution_count": 29,
     "metadata": {},
     "output_type": "execute_result"
    },
    {
     "data": {
      "image/png": "[encoded data removed]",
      "text/plain": [
       "<Figure size 432x288 with 1 Axes>"
      ]
     },
     "metadata": {
      "needs_background": "light"
     },
     "output_type": "display_data"
    }
   ],
   "source": [
    "# Visualize the Simulation\n",
    "# YOUR CODE HERE\n",
    "plot_title = f\"Simulation of Retirement Portfolio\"\n",
    "portfolio_returns.plot(legend=None, title=plot_title)"
   ]
  },
  {
   "cell_type": "code",
   "execution_count": 34,
   "metadata": {},
   "outputs": [
    {
     "data": {
      "text/plain": [
       "0     5.941226\n",
       "1     1.857776\n",
       "2    18.190093\n",
       "3    25.642938\n",
       "4     7.470806\n",
       "Name: 7560, dtype: float64"
      ]
     },
     "execution_count": 34,
     "metadata": {},
     "output_type": "execute_result"
    }
   ],
   "source": [
    "# Select the last row for the cumulative returns (cumulative returns at 30 years)\n",
    "# YOUR CODE HERE\n",
    "last_row_30 = portfolio_returns.iloc[-1, :]\n",
    "last_row_30.head()"
   ]
  },
  {
   "cell_type": "code",
   "execution_count": 36,
   "metadata": {},
   "outputs": [
    {
     "data": {
      "text/plain": [
       "0     1.839915\n",
       "1     1.803248\n",
       "2     4.007963\n",
       "3    10.557438\n",
       "4     2.024512\n",
       "Name: 5040, dtype: float64"
      ]
     },
     "execution_count": 36,
     "metadata": {},
     "output_type": "execute_result"
    }
   ],
   "source": [
    "# Select the last row for the cumulative returns (cumulative returns at 20 years)\n",
    "# YOUR CODE HERE\n",
    "last_row_20 = portfolio_returns.iloc[252*20,:]\n",
    "last_row_20.head()"
   ]
  },
  {
   "cell_type": "code",
   "execution_count": 43,
   "metadata": {},
   "outputs": [],
   "source": [
    "# Display the 90% confidence interval for the ending returns\n",
    "# YOUR CODE HERE\n",
    "confidence_interval_30 = last_row_30.quantile(q=[0.05,0.95])\n",
    "confidence_interval_20 = last_row_20.quantile(q= [0.05,0.95])"
   ]
  },
  {
   "cell_type": "code",
   "execution_count": 57,
   "metadata": {},
   "outputs": [
    {
     "data": {
      "text/plain": [
       "<matplotlib.lines.Line2D at 0x22f383142c8>"
      ]
     },
     "execution_count": 57,
     "metadata": {},
     "output_type": "execute_result"
    },
    {
     "data": {
      "image/png": "[encoded data removed]",
      "text/plain": [
       "<Figure size 432x288 with 1 Axes>"
      ]
     },
     "metadata": {
      "needs_background": "light"
     },
     "output_type": "display_data"
    }
   ],
   "source": [
    "# Visualize the distribution of the ending returns\n",
    "# YOUR CODE HERE\n",
    "last_row_30.plot(kind ='hist', bins = 10, density = True)\n",
    "plt.axvline(confidence_interval_30.iloc[0], color='r')\n",
    "plt.axvline(confidence_interval_30.iloc[1], color='r')"
   ]
  },
  {
   "cell_type": "code",
   "execution_count": 56,
   "metadata": {},
   "outputs": [
    {
     "data": {
      "text/plain": [
       "<matplotlib.lines.Line2D at 0x22f38258c48>"
      ]
     },
     "execution_count": 56,
     "metadata": {},
     "output_type": "execute_result"
    },
    {
     "data": {
      "image/png": "[encoded data removed]",
      "text/plain": [
       "<Figure size 432x288 with 1 Axes>"
      ]
     },
     "metadata": {
      "needs_background": "light"
     },
     "output_type": "display_data"
    }
   ],
   "source": [
    "last_row_20.plot(kind= 'hist', bins = 10, density = True)\n",
    "plt.axvline(confidence_interval_20.iloc[0], color='r')\n",
    "plt.axvline(confidence_interval_20.iloc[1], color='r')"
   ]
  },
  {
   "cell_type": "markdown",
   "metadata": {},
   "source": [
    "---"
   ]
  },
  {
   "cell_type": "markdown",
   "metadata": {},
   "source": [
    "# Retirement Analysis\n",
    "\n",
    "In this section, you will use the monte carlo model to answer the following retirement planning questions:\n",
    "\n",
    "1. What are the expected cumulative returns at 30 years for the 10th, 50th, and 90th percentiles?\n",
    "2. Given an initial investment of `$20,000`, what is the expected portfolio return in dollars at the 10th, 50th, and 90th percentiles?\n",
    "3. Given the current projected annual income from the Plaid analysis, will a 4% withdraw rate from the retirement portfolio meet or exceed that value at the 10th percentile?\n",
    "4. How would a 50% increase in the initial investment amount affect the 4% retirement withdrawal?"
   ]
  },
  {
   "cell_type": "markdown",
   "metadata": {},
   "source": [
    "### What are the expected cumulative returns at 30 years for the 10th, 50th, and 90th percentiles?"
   ]
  },
  {
   "cell_type": "code",
   "execution_count": 62,
   "metadata": {},
   "outputs": [
    {
     "name": "stdout",
     "output_type": "stream",
     "text": [
      "Expected portfolio return for 30 years for 10%: 3.09.\n",
      "Expected portfolio return for 30 years for 50%: 15.57.\n",
      "Expected portfolio return for 30 years for 90%: 70.63.\n"
     ]
    }
   ],
   "source": [
    "# YOUR CODE HERE\n",
    "print(f\"Expected portfolio return for 30 years for 10%: {round(np.percentile(last_row_30,10),2)}.\")\n",
    "print(f\"Expected portfolio return for 30 years for 50%: {round(np.percentile(last_row_30,50),2)}.\")\n",
    "print(f\"Expected portfolio return for 30 years for 90%: {round(np.percentile(last_row_30,90),2)}.\")"
   ]
  },
  {
   "cell_type": "markdown",
   "metadata": {},
   "source": [
    "### Given an initial investment of `$20,000`, what is the expected portfolio return in dollars at the 10th, 50th, and 90th percentiles?"
   ]
  },
  {
   "cell_type": "code",
   "execution_count": 63,
   "metadata": {},
   "outputs": [
    {
     "name": "stdout",
     "output_type": "stream",
     "text": [
      "Expected portfolio return at 10%: $61853.29.\n",
      "Expected portfolio return at 50%: $311381.32.\n",
      "Expected portfolio return at 90%: $1412559.48.\n"
     ]
    }
   ],
   "source": [
    "# YOUR CODE HERE\n",
    "initial_investment = 20000\n",
    "cumulative_per = initial_investment * last_row_30\n",
    "print(f\"Expected portfolio return at 10%: ${round(np.percentile(cumulative_per,10),2)}.\")\n",
    "print(f\"Expected portfolio return at 50%: ${round(np.percentile(cumulative_per,50),2)}.\")\n",
    "print(f\"Expected portfolio return at 90%: ${round(np.percentile(cumulative_per,90),2)}.\")\n"
   ]
  },
  {
   "cell_type": "markdown",
   "metadata": {},
   "source": [
    "### Given the current projected annual income from the Plaid analysis, will a 4% withdraw rate from the retirement portfolio meet or exceed that value at the 10th percentile?\n",
    "\n",
    "Note: This is effectively saying that 90% of the expected returns will be greater than the return at the 10th percentile, so this can help measure the uncertainty about having enough funds at retirement"
   ]
  },
  {
   "cell_type": "code",
   "execution_count": 72,
   "metadata": {},
   "outputs": [
    {
     "name": "stdout",
     "output_type": "stream",
     "text": [
      "4% withdraw is not sufficient to cover the projected annual income of $6085\n"
     ]
    }
   ],
   "source": [
    "# YOUR CODE HERE\n",
    "amount_withdraw = 0.04*(round(np.percentile(cumulative_per,10),2))\n",
    "yearly_income=6085\n",
    "if amount_withdraw >= yearly_income:\n",
    "    print(f\"4% withdraw is sufficient to cover the projected annual income of ${yearly_income}\")\n",
    "else:\n",
    "    print(f\"4% withdraw is not sufficient to cover the projected annual income of ${yearly_income}\")\n"
   ]
  },
  {
   "cell_type": "markdown",
   "metadata": {},
   "source": [
    "### How would a 50% increase in the initial investment amount affect the 4% retirement withdrawal?"
   ]
  },
  {
   "cell_type": "code",
   "execution_count": 73,
   "metadata": {},
   "outputs": [
    {
     "name": "stdout",
     "output_type": "stream",
     "text": [
      "4% withdraw is sufficient to cover the annual income of $6085\n"
     ]
    }
   ],
   "source": [
    "# YOUR CODE HERE\n",
    "increased_investment = (1.50) * initial_investment\n",
    "new_cumulative = cumulative_per * increased_investment\n",
    "new_withdrawal = 0.04*(round(np.percentile(new_cumulative,10),2))\n",
    "projected_yearly_income=6085\n",
    "if new_withdrawal >= projected_yearly_income:\n",
    "    print(f\"4% withdraw is sufficient to cover the annual income of ${yearly_income}\")\n",
    "else:\n",
    "    print(f\"4% withdraw is not sufficient to cover the annual income of ${yearly_income}\")\n"
   ]
  },
  {
   "cell_type": "markdown",
   "metadata": {},
   "source": [
    "### Optional Challenge\n",
    "\n",
    "In this section, you will calculate and plot the cumulative returns for the median and 90% confidence intervals. This plot shows the expected cumulative returns for any given day between the first day and the last day of investment. "
   ]
  },
  {
   "cell_type": "code",
   "execution_count": null,
   "metadata": {},
   "outputs": [],
   "source": [
    "# YOUR CODE HERE\n"
   ]
  }
 ],
 "metadata": {
  "kernel_info": {
   "name": "dev"
  },
  "kernelspec": {
   "display_name": "Python 3",
   "language": "python",
   "name": "python3"
  },
  "language_info": {
   "codemirror_mode": {
    "name": "ipython",
    "version": 3
   },
   "file_extension": ".py",
   "mimetype": "text/x-python",
   "name": "python",
   "nbconvert_exporter": "python",
   "pygments_lexer": "ipython3",
   "version": "3.7.4"
  },
  "nteract": {
   "version": "0.12.3"
  }
 },
 "nbformat": 4,
 "nbformat_minor": 4
}
