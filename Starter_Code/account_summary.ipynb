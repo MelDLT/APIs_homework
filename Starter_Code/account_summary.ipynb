{
 "cells": [
  {
   "cell_type": "code",
   "execution_count": 1,
   "metadata": {},
   "outputs": [],
   "source": [
    "import os\n",
    "import plaid\n",
    "import requests\n",
    "import datetime\n",
    "import json\n",
    "import pandas as pd\n",
    "%matplotlib inline\n",
    "from dotenv import load_dotenv "
   ]
  },
  {
   "cell_type": "code",
   "execution_count": 2,
   "metadata": {},
   "outputs": [],
   "source": [
    "def pretty_print_response(response):\n",
    "  print(json.dumps(response, indent=4, sort_keys=True))"
   ]
  },
  {
   "cell_type": "code",
   "execution_count": 3,
   "metadata": {},
   "outputs": [],
   "source": [
    "load_dotenv()\n",
    "PLAID_CLIENT_ID = os.getenv('PLAID_CLIENT_ID')\n",
    "PLAID_SECRET = os.getenv('PLAID_SECRET')\n",
    "PLAID_PUBLIC_KEY = os.getenv('PLAID_PUBLIC_KEY')\n",
    "PLAID_ENV = os.getenv('PLAID_ENV', 'sandbox')\n",
    "PLAID_PRODUCTS = os.getenv('PLAID_PRODUCTS', 'transactions')"
   ]
  },
  {
   "cell_type": "markdown",
   "metadata": {},
   "source": [
    "# Plaid Access Token\n",
    "\n",
    "In this section, you will use the plaid-python api to generate the correct authentication tokens to access data in the free developer Sandbox. This mimics how you might connect to your own account or a customer account, but due to privacy issues, this homework will only require connecting to and analyzing the fake data from the developer sandbox that Plaid provides. \n",
    "\n",
    "Complete the following steps to generate an access token:\n",
    "1. Create a client to connect to plaid\n",
    "2. Use the client to generate a public token and request the following items: \n",
    "['transactions', 'income', 'assets']\n",
    "3. Exchange the public token for an access token\n",
    "4. Test the access token by requesting and printing the available test accounts"
   ]
  },
  {
   "cell_type": "markdown",
   "metadata": {},
   "source": [
    "### 1. Create a client to connect to plaid"
   ]
  },
  {
   "cell_type": "code",
   "execution_count": 4,
   "metadata": {},
   "outputs": [],
   "source": [
    "INSTITUTION_ID = \"ins_109508\""
   ]
  },
  {
   "cell_type": "code",
   "execution_count": 5,
   "metadata": {},
   "outputs": [],
   "source": [
    "# YOUR CODE HERE\n",
    "client = plaid.Client(client_id = PLAID_CLIENT_ID,\n",
    "                      secret = PLAID_SECRET,\n",
    "                     public_key = PLAID_PUBLIC_KEY,\n",
    "                     environment = PLAID_ENV)"
   ]
  },
  {
   "cell_type": "markdown",
   "metadata": {},
   "source": [
    "### 2. Generate a public token"
   ]
  },
  {
   "cell_type": "code",
   "execution_count": 6,
   "metadata": {},
   "outputs": [],
   "source": [
    "# YOUR CODE HERE\n",
    "create_tkn_response = client.Sandbox.public_token.create(INSTITUTION_ID, ['transactions','income','assets'])"
   ]
  },
  {
   "cell_type": "markdown",
   "metadata": {},
   "source": [
    "### 3. Exchange the public token for an access token"
   ]
  },
  {
   "cell_type": "code",
   "execution_count": 7,
   "metadata": {},
   "outputs": [],
   "source": [
    "# YOUR CODE HERE\n",
    "exchange_tkn_response = client.Item.public_token.exchange(create_tkn_response['public_token'] )"
   ]
  },
  {
   "cell_type": "markdown",
   "metadata": {},
   "source": [
    "### 4. Fetch Accounts"
   ]
  },
  {
   "cell_type": "code",
   "execution_count": 8,
   "metadata": {},
   "outputs": [
    {
     "data": {
      "text/plain": [
       "{'accounts': [{'account_id': 'xyAapDnXqbFQxjerZd9ZUeZENRx8mxFnBP7AB',\n",
       "   'balances': {'available': 100,\n",
       "    'current': 110,\n",
       "    'iso_currency_code': 'USD',\n",
       "    'limit': None,\n",
       "    'unofficial_currency_code': None},\n",
       "   'mask': '0000',\n",
       "   'name': 'Plaid Checking',\n",
       "   'official_name': 'Plaid Gold Standard 0% Interest Checking',\n",
       "   'subtype': 'checking',\n",
       "   'type': 'depository'},\n",
       "  {'account_id': 'dBxoqM6JX4IpE8rAVgmVhjB6vbxNyxuZazM6R',\n",
       "   'balances': {'available': 200,\n",
       "    'current': 210,\n",
       "    'iso_currency_code': 'USD',\n",
       "    'limit': None,\n",
       "    'unofficial_currency_code': None},\n",
       "   'mask': '1111',\n",
       "   'name': 'Plaid Saving',\n",
       "   'official_name': 'Plaid Silver Standard 0.1% Interest Saving',\n",
       "   'subtype': 'savings',\n",
       "   'type': 'depository'},\n",
       "  {'account_id': 'aKz1w6b3XxsaleLXVwBVhBkvp6yQ8yC73JaeK',\n",
       "   'balances': {'available': None,\n",
       "    'current': 1000,\n",
       "    'iso_currency_code': 'USD',\n",
       "    'limit': None,\n",
       "    'unofficial_currency_code': None},\n",
       "   'mask': '2222',\n",
       "   'name': 'Plaid CD',\n",
       "   'official_name': 'Plaid Bronze Standard 0.2% Interest CD',\n",
       "   'subtype': 'cd',\n",
       "   'type': 'depository'},\n",
       "  {'account_id': '4D9xXn5VbqIJGxPVXbBXIgX8Awa67aidMVr3p',\n",
       "   'balances': {'available': None,\n",
       "    'current': 410,\n",
       "    'iso_currency_code': 'USD',\n",
       "    'limit': 2000,\n",
       "    'unofficial_currency_code': None},\n",
       "   'mask': '3333',\n",
       "   'name': 'Plaid Credit Card',\n",
       "   'official_name': 'Plaid Diamond 12.5% APR Interest Credit Card',\n",
       "   'subtype': 'credit card',\n",
       "   'type': 'credit'},\n",
       "  {'account_id': 'N6olp8DnNkHgnKpQbkvbTqXLv19bD9CWKpj7p',\n",
       "   'balances': {'available': 43200,\n",
       "    'current': 43200,\n",
       "    'iso_currency_code': 'USD',\n",
       "    'limit': None,\n",
       "    'unofficial_currency_code': None},\n",
       "   'mask': '4444',\n",
       "   'name': 'Plaid Money Market',\n",
       "   'official_name': 'Plaid Platinum Standard 1.85% Interest Money Market',\n",
       "   'subtype': 'money market',\n",
       "   'type': 'depository'},\n",
       "  {'account_id': 'P68KgkDEWnHreJg4yxByU9XW8ye4jeH7v5kN6',\n",
       "   'balances': {'available': None,\n",
       "    'current': 320.76,\n",
       "    'iso_currency_code': 'USD',\n",
       "    'limit': None,\n",
       "    'unofficial_currency_code': None},\n",
       "   'mask': '5555',\n",
       "   'name': 'Plaid IRA',\n",
       "   'official_name': None,\n",
       "   'subtype': 'ira',\n",
       "   'type': 'investment'},\n",
       "  {'account_id': 'jNjGxLng5QH3d5qEvzjvIVjz75pvPpc1AmMGg',\n",
       "   'balances': {'available': None,\n",
       "    'current': 23631.9805,\n",
       "    'iso_currency_code': 'USD',\n",
       "    'limit': None,\n",
       "    'unofficial_currency_code': None},\n",
       "   'mask': '6666',\n",
       "   'name': 'Plaid 401k',\n",
       "   'official_name': None,\n",
       "   'subtype': '401k',\n",
       "   'type': 'investment'},\n",
       "  {'account_id': '7m64wRDVbzuN5Zq34Ma4HJXen1DdRDFgpyl1o',\n",
       "   'balances': {'available': None,\n",
       "    'current': 65262,\n",
       "    'iso_currency_code': 'USD',\n",
       "    'limit': None,\n",
       "    'unofficial_currency_code': None},\n",
       "   'mask': '7777',\n",
       "   'name': 'Plaid Student Loan',\n",
       "   'official_name': None,\n",
       "   'subtype': 'student',\n",
       "   'type': 'loan'}],\n",
       " 'item': {'available_products': ['auth',\n",
       "   'balance',\n",
       "   'credit_details',\n",
       "   'identity',\n",
       "   'investments',\n",
       "   'liabilities'],\n",
       "  'billed_products': ['assets', 'income', 'transactions'],\n",
       "  'consent_expiration_time': None,\n",
       "  'error': None,\n",
       "  'institution_id': 'ins_109508',\n",
       "  'item_id': 'brBL5DWjXdSMWaPRVXmVhXodNXynN5cV7Nvzp',\n",
       "  'webhook': ''},\n",
       " 'request_id': 'YAvviRxzzaf7Q2j'}"
      ]
     },
     "execution_count": 8,
     "metadata": {},
     "output_type": "execute_result"
    }
   ],
   "source": [
    "# YOUR CODE HERE\n",
    "access_token = exchange_tkn_response['access_token']\n",
    "client.Accounts.get(access_token)"
   ]
  },
  {
   "cell_type": "markdown",
   "metadata": {},
   "source": [
    "---"
   ]
  },
  {
   "cell_type": "markdown",
   "metadata": {},
   "source": [
    "# Account Transactions with Plaid\n",
    "\n",
    "In this section, you will use the Plaid Python SDK to connect to the Developer Sandbox account and grab a list of transactions. You will need to complete the following steps:\n",
    "\n",
    "\n",
    "1. Use the access token to fetch the transactions for the last 90 days\n",
    "2. Print the categories for each transaction type\n",
    "3. Create a new DataFrame using the following fields from the JSON transaction data: `date, name, amount, category`. (For categories with more than one label, just use the first category label in the list)\n",
    "4. Convert the data types to the appropriate types (i.e. datetimeindex for the date and float for the amount)"
   ]
  },
  {
   "cell_type": "markdown",
   "metadata": {},
   "source": [
    "### 1. Fetch the Transactions for the last 90 days"
   ]
  },
  {
   "cell_type": "code",
   "execution_count": 10,
   "metadata": {},
   "outputs": [],
   "source": [
    "# YOUR CODE HERE \n",
    "start_90_days = '{:%Y-%m-%d}'.format(datetime.datetime.now() + datetime.timedelta(-90))\n",
    "end_date = '{:%Y-%m-%d}'.format(datetime.datetime.now())"
   ]
  },
  {
   "cell_type": "markdown",
   "metadata": {},
   "source": [
    "### 2. Print the categories for each transaction"
   ]
  },
  {
   "cell_type": "code",
   "execution_count": 11,
   "metadata": {},
   "outputs": [
    {
     "name": "stdout",
     "output_type": "stream",
     "text": [
      "[\"Food and Drink\", \"Restaurants\"]\n",
      "[\"Transfer\", \"Credit\"]\n",
      "[\"Travel\", \"Airlines and Aviation Services\"]\n",
      "[\"Travel\", \"Taxi\"]\n",
      "[\"Food and Drink\", \"Restaurants\"]\n",
      "[\"Payment\"]\n",
      "[\"Food and Drink\", \"Restaurants\", \"Fast Food\"]\n",
      "[\"Shops\", \"Sporting Goods\"]\n",
      "[\"Payment\", \"Credit Card\"]\n",
      "[\"Travel\", \"Taxi\"]\n",
      "[\"Transfer\", \"Debit\"]\n",
      "[\"Transfer\", \"Deposit\"]\n",
      "[\"Recreation\", \"Gyms and Fitness Centers\"]\n",
      "[\"Travel\", \"Airlines and Aviation Services\"]\n",
      "[\"Food and Drink\", \"Restaurants\", \"Fast Food\"]\n",
      "[\"Food and Drink\", \"Restaurants\", \"Coffee Shop\"]\n",
      "[\"Food and Drink\", \"Restaurants\"]\n",
      "[\"Transfer\", \"Credit\"]\n",
      "[\"Travel\", \"Airlines and Aviation Services\"]\n",
      "[\"Travel\", \"Taxi\"]\n",
      "[\"Food and Drink\", \"Restaurants\"]\n",
      "[\"Payment\"]\n",
      "[\"Food and Drink\", \"Restaurants\", \"Fast Food\"]\n",
      "[\"Shops\", \"Sporting Goods\"]\n",
      "[\"Payment\", \"Credit Card\"]\n",
      "[\"Travel\", \"Taxi\"]\n",
      "[\"Transfer\", \"Debit\"]\n",
      "[\"Transfer\", \"Deposit\"]\n",
      "[\"Recreation\", \"Gyms and Fitness Centers\"]\n",
      "[\"Travel\", \"Airlines and Aviation Services\"]\n",
      "[\"Food and Drink\", \"Restaurants\", \"Fast Food\"]\n",
      "[\"Food and Drink\", \"Restaurants\", \"Coffee Shop\"]\n",
      "[\"Food and Drink\", \"Restaurants\"]\n",
      "[\"Transfer\", \"Credit\"]\n",
      "[\"Travel\", \"Airlines and Aviation Services\"]\n",
      "[\"Travel\", \"Taxi\"]\n",
      "[\"Food and Drink\", \"Restaurants\"]\n",
      "[\"Payment\"]\n",
      "[\"Food and Drink\", \"Restaurants\", \"Fast Food\"]\n",
      "[\"Shops\", \"Sporting Goods\"]\n",
      "[\"Payment\", \"Credit Card\"]\n",
      "[\"Travel\", \"Taxi\"]\n",
      "[\"Transfer\", \"Debit\"]\n",
      "[\"Transfer\", \"Deposit\"]\n",
      "[\"Recreation\", \"Gyms and Fitness Centers\"]\n",
      "[\"Travel\", \"Airlines and Aviation Services\"]\n",
      "[\"Food and Drink\", \"Restaurants\", \"Fast Food\"]\n",
      "[\"Food and Drink\", \"Restaurants\", \"Coffee Shop\"]\n",
      "[\"Food and Drink\", \"Restaurants\"]\n"
     ]
    }
   ],
   "source": [
    "# YOUR CODE HERE\n",
    "transaction_response = client.Transactions.get(access_token, start_90_days, end_date)\n",
    "#pretty_print_response(transaction_response)\n",
    "for categories in transaction_response['transactions']:\n",
    "    print(json.dumps(categories['category'], sort_keys = True))\n",
    "    "
   ]
  },
  {
   "cell_type": "markdown",
   "metadata": {},
   "source": [
    "### 3. Create a new DataFrame using the following fields from the JSON transaction data: date, name, amount, category. \n",
    "\n",
    "(For categories with more than one label, just use the first category label in the list)"
   ]
  },
  {
   "cell_type": "code",
   "execution_count": 12,
   "metadata": {},
   "outputs": [
    {
     "data": {
      "text/html": [
       "<div>\n",
       "<style scoped>\n",
       "    .dataframe tbody tr th:only-of-type {\n",
       "        vertical-align: middle;\n",
       "    }\n",
       "\n",
       "    .dataframe tbody tr th {\n",
       "        vertical-align: top;\n",
       "    }\n",
       "\n",
       "    .dataframe thead th {\n",
       "        text-align: right;\n",
       "    }\n",
       "</style>\n",
       "<table border=\"1\" class=\"dataframe\">\n",
       "  <thead>\n",
       "    <tr style=\"text-align: right;\">\n",
       "      <th></th>\n",
       "      <th>date</th>\n",
       "      <th>name</th>\n",
       "      <th>amount</th>\n",
       "      <th>category</th>\n",
       "      <th>category_1</th>\n",
       "      <th>category_2</th>\n",
       "    </tr>\n",
       "  </thead>\n",
       "  <tbody>\n",
       "    <tr>\n",
       "      <th>0</th>\n",
       "      <td>2020-04-11</td>\n",
       "      <td>SparkFun</td>\n",
       "      <td>89.40</td>\n",
       "      <td>Food and Drink</td>\n",
       "      <td>Restaurants</td>\n",
       "      <td>None</td>\n",
       "    </tr>\n",
       "    <tr>\n",
       "      <th>1</th>\n",
       "      <td>2020-04-10</td>\n",
       "      <td>INTRST PYMNT</td>\n",
       "      <td>-4.22</td>\n",
       "      <td>Transfer</td>\n",
       "      <td>Credit</td>\n",
       "      <td>None</td>\n",
       "    </tr>\n",
       "    <tr>\n",
       "      <th>2</th>\n",
       "      <td>2020-03-31</td>\n",
       "      <td>United Airlines</td>\n",
       "      <td>500.00</td>\n",
       "      <td>Travel</td>\n",
       "      <td>Airlines and Aviation Services</td>\n",
       "      <td>None</td>\n",
       "    </tr>\n",
       "    <tr>\n",
       "      <th>3</th>\n",
       "      <td>2020-03-29</td>\n",
       "      <td>Uber</td>\n",
       "      <td>6.33</td>\n",
       "      <td>Travel</td>\n",
       "      <td>Taxi</td>\n",
       "      <td>None</td>\n",
       "    </tr>\n",
       "    <tr>\n",
       "      <th>4</th>\n",
       "      <td>2020-03-26</td>\n",
       "      <td>Tectra Inc</td>\n",
       "      <td>500.00</td>\n",
       "      <td>Food and Drink</td>\n",
       "      <td>Restaurants</td>\n",
       "      <td>None</td>\n",
       "    </tr>\n",
       "  </tbody>\n",
       "</table>\n",
       "</div>"
      ],
      "text/plain": [
       "         date             name  amount        category  \\\n",
       "0  2020-04-11         SparkFun   89.40  Food and Drink   \n",
       "1  2020-04-10     INTRST PYMNT   -4.22        Transfer   \n",
       "2  2020-03-31  United Airlines  500.00          Travel   \n",
       "3  2020-03-29             Uber    6.33          Travel   \n",
       "4  2020-03-26       Tectra Inc  500.00  Food and Drink   \n",
       "\n",
       "                       category_1 category_2  \n",
       "0                     Restaurants       None  \n",
       "1                          Credit       None  \n",
       "2  Airlines and Aviation Services       None  \n",
       "3                            Taxi       None  \n",
       "4                     Restaurants       None  "
      ]
     },
     "execution_count": 12,
     "metadata": {},
     "output_type": "execute_result"
    }
   ],
   "source": [
    "# YOUR CODE HERE\n",
    "transaction_df = pd.DataFrame(transaction_response['transactions'])\n",
    "transaction_df= transaction_df.get(['date','name','amount','category'])\n",
    "transaction_df[['category', 'category_1','category_2']] =pd.DataFrame(transaction_df.category.values.tolist(), index=transaction_df.index)\n",
    "transaction_df.head()\n"
   ]
  },
  {
   "cell_type": "markdown",
   "metadata": {},
   "source": [
    "### 4. Convert the data types to the appropriate types \n",
    "\n",
    "(i.e. datetimeindex for the date and float for the amount)"
   ]
  },
  {
   "cell_type": "code",
   "execution_count": 13,
   "metadata": {},
   "outputs": [
    {
     "data": {
      "text/html": [
       "<div>\n",
       "<style scoped>\n",
       "    .dataframe tbody tr th:only-of-type {\n",
       "        vertical-align: middle;\n",
       "    }\n",
       "\n",
       "    .dataframe tbody tr th {\n",
       "        vertical-align: top;\n",
       "    }\n",
       "\n",
       "    .dataframe thead th {\n",
       "        text-align: right;\n",
       "    }\n",
       "</style>\n",
       "<table border=\"1\" class=\"dataframe\">\n",
       "  <thead>\n",
       "    <tr style=\"text-align: right;\">\n",
       "      <th></th>\n",
       "      <th>name</th>\n",
       "      <th>amount</th>\n",
       "      <th>category</th>\n",
       "    </tr>\n",
       "    <tr>\n",
       "      <th>date</th>\n",
       "      <th></th>\n",
       "      <th></th>\n",
       "      <th></th>\n",
       "    </tr>\n",
       "  </thead>\n",
       "  <tbody>\n",
       "    <tr>\n",
       "      <th>2020-04-11</th>\n",
       "      <td>SparkFun</td>\n",
       "      <td>89.40</td>\n",
       "      <td>Food and Drink</td>\n",
       "    </tr>\n",
       "    <tr>\n",
       "      <th>2020-04-10</th>\n",
       "      <td>INTRST PYMNT</td>\n",
       "      <td>-4.22</td>\n",
       "      <td>Transfer</td>\n",
       "    </tr>\n",
       "    <tr>\n",
       "      <th>2020-03-31</th>\n",
       "      <td>United Airlines</td>\n",
       "      <td>500.00</td>\n",
       "      <td>Travel</td>\n",
       "    </tr>\n",
       "    <tr>\n",
       "      <th>2020-03-29</th>\n",
       "      <td>Uber</td>\n",
       "      <td>6.33</td>\n",
       "      <td>Travel</td>\n",
       "    </tr>\n",
       "    <tr>\n",
       "      <th>2020-03-26</th>\n",
       "      <td>Tectra Inc</td>\n",
       "      <td>500.00</td>\n",
       "      <td>Food and Drink</td>\n",
       "    </tr>\n",
       "  </tbody>\n",
       "</table>\n",
       "</div>"
      ],
      "text/plain": [
       "                       name  amount        category\n",
       "date                                               \n",
       "2020-04-11         SparkFun   89.40  Food and Drink\n",
       "2020-04-10     INTRST PYMNT   -4.22        Transfer\n",
       "2020-03-31  United Airlines  500.00          Travel\n",
       "2020-03-29             Uber    6.33          Travel\n",
       "2020-03-26       Tectra Inc  500.00  Food and Drink"
      ]
     },
     "execution_count": 13,
     "metadata": {},
     "output_type": "execute_result"
    }
   ],
   "source": [
    "# YOUR CODE HERE\n",
    "transaction_df['amount']=transaction_df['amount'].astype('float')\n",
    "transaction_df.set_index(pd.to_datetime(transaction_df['date'], infer_datetime_format =True),  inplace = True)\n",
    "transaction_df.drop(columns = ['date','category_1','category_2'], inplace = True)\n",
    "\n",
    "transaction_df.head()\n"
   ]
  },
  {
   "cell_type": "markdown",
   "metadata": {},
   "source": [
    "---"
   ]
  },
  {
   "cell_type": "markdown",
   "metadata": {},
   "source": [
    "# Income Analysis with Plaid\n",
    "\n",
    "In this section, you will use the Plaid Sandbox to complete the following:\n",
    "1. Determine the previous year's gross income and print the results\n",
    "2. Determine the current monthly income and print the results\n",
    "3. Determine the projected yearly income and print the results"
   ]
  },
  {
   "cell_type": "code",
   "execution_count": 14,
   "metadata": {},
   "outputs": [
    {
     "name": "stdout",
     "output_type": "stream",
     "text": [
      "The previous year's gross income: $ 6000\n",
      "The current monthly income: $500\n",
      "The projected yearly income: $6085\n"
     ]
    }
   ],
   "source": [
    "# YOUR CODE HERE\n",
    "client.Accounts.get(access_token)\n",
    "sandbox_income = client.Income.get(access_token)\n",
    "previous_year_income = sandbox_income['income']['last_year_income']\n",
    "current_monthly_income = sandbox_income['income']['income_streams'][0]['monthly_income']\n",
    "projected_yearly_income = sandbox_income['income']['projected_yearly_income']\n",
    "\n",
    "print(f\"The previous year's gross income: $ {previous_year_income}\")\n",
    "print(f\"The current monthly income: ${current_monthly_income}\")\n",
    "print(f\"The projected yearly income: ${projected_yearly_income}\")"
   ]
  },
  {
   "cell_type": "markdown",
   "metadata": {},
   "source": [
    "---"
   ]
  },
  {
   "cell_type": "markdown",
   "metadata": {},
   "source": [
    "# Budget Analysis\n",
    "In this section, you will use the transactions DataFrame to analyze the customer's budget\n",
    "\n",
    "1. Calculate the total spending per category and print the results (Hint: groupby or count transactions per category)\n",
    "2. Generate a bar chart with the number of transactions for each category \n",
    "3. Calculate the expenses per month\n",
    "4. Plot the total expenses per month"
   ]
  },
  {
   "cell_type": "markdown",
   "metadata": {},
   "source": [
    "### Calculate the expenses per category"
   ]
  },
  {
   "cell_type": "code",
   "execution_count": 15,
   "metadata": {},
   "outputs": [
    {
     "data": {
      "text/html": [
       "<div>\n",
       "<style scoped>\n",
       "    .dataframe tbody tr th:only-of-type {\n",
       "        vertical-align: middle;\n",
       "    }\n",
       "\n",
       "    .dataframe tbody tr th {\n",
       "        vertical-align: top;\n",
       "    }\n",
       "\n",
       "    .dataframe thead th {\n",
       "        text-align: right;\n",
       "    }\n",
       "</style>\n",
       "<table border=\"1\" class=\"dataframe\">\n",
       "  <thead>\n",
       "    <tr style=\"text-align: right;\">\n",
       "      <th></th>\n",
       "      <th>amount</th>\n",
       "    </tr>\n",
       "    <tr>\n",
       "      <th>category</th>\n",
       "      <th></th>\n",
       "    </tr>\n",
       "  </thead>\n",
       "  <tbody>\n",
       "    <tr>\n",
       "      <th>Food and Drink</th>\n",
       "      <td>3406.59</td>\n",
       "    </tr>\n",
       "    <tr>\n",
       "      <th>Payment</th>\n",
       "      <td>6310.50</td>\n",
       "    </tr>\n",
       "    <tr>\n",
       "      <th>Recreation</th>\n",
       "      <td>235.50</td>\n",
       "    </tr>\n",
       "    <tr>\n",
       "      <th>Shops</th>\n",
       "      <td>1500.00</td>\n",
       "    </tr>\n",
       "    <tr>\n",
       "      <th>Transfer</th>\n",
       "      <td>20537.34</td>\n",
       "    </tr>\n",
       "    <tr>\n",
       "      <th>Travel</th>\n",
       "      <td>35.19</td>\n",
       "    </tr>\n",
       "  </tbody>\n",
       "</table>\n",
       "</div>"
      ],
      "text/plain": [
       "                  amount\n",
       "category                \n",
       "Food and Drink   3406.59\n",
       "Payment          6310.50\n",
       "Recreation        235.50\n",
       "Shops            1500.00\n",
       "Transfer        20537.34\n",
       "Travel             35.19"
      ]
     },
     "execution_count": 15,
     "metadata": {},
     "output_type": "execute_result"
    }
   ],
   "source": [
    "# YOUR CODE HERE\n",
    "spending_category=transaction_df.groupby(['category']).sum()\n",
    "spending_category"
   ]
  },
  {
   "cell_type": "code",
   "execution_count": 16,
   "metadata": {},
   "outputs": [
    {
     "data": {
      "text/plain": [
       "<matplotlib.axes._subplots.AxesSubplot at 0x195b8ca0c88>"
      ]
     },
     "execution_count": 16,
     "metadata": {},
     "output_type": "execute_result"
    },
    {
     "data": {
      "image/png": "[encoded data removed]",
      "text/plain": [
       "<Figure size 432x288 with 1 Axes>"
      ]
     },
     "metadata": {
      "needs_background": "light"
     },
     "output_type": "display_data"
    }
   ],
   "source": [
    "spending_category.plot.bar(title= \"Total Spending Per Category\")"
   ]
  },
  {
   "cell_type": "markdown",
   "metadata": {},
   "source": [
    "### Calculate the expenses per month"
   ]
  },
  {
   "cell_type": "code",
   "execution_count": 17,
   "metadata": {},
   "outputs": [
    {
     "name": "stdout",
     "output_type": "stream",
     "text": [
      "        amount\n",
      "date          \n",
      "1     10649.46\n",
      "2     10145.24\n",
      "3     11145.24\n",
      "4        85.18\n"
     ]
    },
    {
     "data": {
      "text/plain": [
       "<matplotlib.axes._subplots.AxesSubplot at 0x195b8dbec88>"
      ]
     },
     "execution_count": 17,
     "metadata": {},
     "output_type": "execute_result"
    },
    {
     "data": {
      "image/png": "[encoded data removed]",
      "text/plain": [
       "<Figure size 432x288 with 1 Axes>"
      ]
     },
     "metadata": {
      "needs_background": "light"
     },
     "output_type": "display_data"
    }
   ],
   "source": [
    "# YOUR CODE HERE\n",
    "monthly_expenses = transaction_df.groupby([transaction_df.index.month]).sum()\n",
    "print(monthly_expenses)\n",
    "monthly_expenses.plot.bar(title = \"Monthly Expenses\")"
   ]
  }
 ],
 "metadata": {
  "kernel_info": {
   "name": "dev"
  },
  "kernelspec": {
   "display_name": "Python 3",
   "language": "python",
   "name": "python3"
  },
  "language_info": {
   "codemirror_mode": {
    "name": "ipython",
    "version": 3
   },
   "file_extension": ".py",
   "mimetype": "text/x-python",
   "name": "python",
   "nbconvert_exporter": "python",
   "pygments_lexer": "ipython3",
   "version": "3.7.4"
  },
  "nteract": {
   "version": "0.12.3"
  }
 },
 "nbformat": 4,
 "nbformat_minor": 4
}
